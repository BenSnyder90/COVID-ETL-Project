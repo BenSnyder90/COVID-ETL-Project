{
 "nbformat": 4,
 "nbformat_minor": 2,
 "metadata": {
  "language_info": {
   "name": "python",
   "codemirror_mode": {
    "name": "ipython",
    "version": 3
   },
   "version": "3.7.4-final"
  },
  "orig_nbformat": 2,
  "file_extension": ".py",
  "mimetype": "text/x-python",
  "name": "python",
  "npconvert_exporter": "python",
  "pygments_lexer": "ipython3",
  "version": 3,
  "kernelspec": {
   "name": "python37464bitpythondatacondaaf71fc3f5dd34866a438487bc0d8ac87",
   "display_name": "Python 3.7.4 64-bit ('PythonData': conda)"
  }
 },
 "cells": [
  {
   "cell_type": "code",
   "execution_count": 2,
   "metadata": {},
   "outputs": [],
   "source": [
    "import pandas as pd\n",
    ""
   ]
  },
  {
   "cell_type": "code",
   "execution_count": 21,
   "metadata": {},
   "outputs": [],
   "source": [
    "data_df = pd.read_csv('data/daily.csv')\n",
    "state_df = pd.read_csv('data/us_state_population.csv')"
   ]
  },
  {
   "cell_type": "code",
   "execution_count": 22,
   "metadata": {},
   "outputs": [],
   "source": [
    "#Drop the state column that had numbers\n",
    "state_df = state_df.drop(columns=['state'])\n",
    "\n",
    "#Make a list of the abbreviations of the states, District of Columbia, and Puerto Rico\n",
    "state = ['AL','AK','AZ','AR','CA','CO','CT','DE','DC','FL','GA','HI','ID','IL','IN','IA','KS','KY','LA','ME','MD','MA','MI','MN','MS','MO','MT','NE','NV','NH','NJ','NM','NY','NC','ND','OH','OK','OR','PA','RI','SC','SD','TN','TX','UT','VT','VA','WA','WV','WI','WY','PR']\n",
    "\n",
    "#Add new state column to df\n",
    "state_df['state'] = state\n",
    "\n",
    "#Reorder the columns\n",
    "state_df = state_df[['state','name','popestimate2019']]"
   ]
  },
  {
   "cell_type": "code",
   "execution_count": 23,
   "metadata": {},
   "outputs": [
    {
     "output_type": "execute_result",
     "data": {
      "text/plain": "   state                  name  popestimate2019\n0     AL               Alabama          4903185\n1     AK                Alaska           731545\n2     AZ               Arizona          7278717\n3     AR              Arkansas          3017804\n4     CA            California         39512223\n5     CO              Colorado          5758736\n6     CT           Connecticut          3565287\n7     DE              Delaware           973764\n8     DC  District of Columbia           705749\n9     FL               Florida         21477737\n10    GA               Georgia         10617423\n11    HI                Hawaii          1415872\n12    ID                 Idaho          1787065\n13    IL              Illinois         12671821\n14    IN               Indiana          6732219\n15    IA                  Iowa          3155070\n16    KS                Kansas          2913314\n17    KY              Kentucky          4467673\n18    LA             Louisiana          4648794\n19    ME                 Maine          1344212\n20    MD              Maryland          6045680\n21    MA         Massachusetts          6892503\n22    MI              Michigan          9986857\n23    MN             Minnesota          5639632\n24    MS           Mississippi          2976149\n25    MO              Missouri          6137428\n26    MT               Montana          1068778\n27    NE              Nebraska          1934408\n28    NV                Nevada          3080156\n29    NH         New Hampshire          1359711\n30    NJ            New Jersey          8882190\n31    NM            New Mexico          2096829\n32    NY              New York         19453561\n33    NC        North Carolina         10488084\n34    ND          North Dakota           762062\n35    OH                  Ohio         11689100\n36    OK              Oklahoma          3956971\n37    OR                Oregon          4217737\n38    PA          Pennsylvania         12801989\n39    RI          Rhode Island          1059361\n40    SC        South Carolina          5148714\n41    SD          South Dakota           884659\n42    TN             Tennessee          6829174\n43    TX                 Texas         28995881\n44    UT                  Utah          3205958\n45    VT               Vermont           623989\n46    VA              Virginia          8535519\n47    WA            Washington          7614893\n48    WV         West Virginia          1792147\n49    WI             Wisconsin          5822434\n50    WY               Wyoming           578759\n51    PR           Puerto Rico          3193694",
      "text/html": "<div>\n<style scoped>\n    .dataframe tbody tr th:only-of-type {\n        vertical-align: middle;\n    }\n\n    .dataframe tbody tr th {\n        vertical-align: top;\n    }\n\n    .dataframe thead th {\n        text-align: right;\n    }\n</style>\n<table border=\"1\" class=\"dataframe\">\n  <thead>\n    <tr style=\"text-align: right;\">\n      <th></th>\n      <th>state</th>\n      <th>name</th>\n      <th>popestimate2019</th>\n    </tr>\n  </thead>\n  <tbody>\n    <tr>\n      <th>0</th>\n      <td>AL</td>\n      <td>Alabama</td>\n      <td>4903185</td>\n    </tr>\n    <tr>\n      <th>1</th>\n      <td>AK</td>\n      <td>Alaska</td>\n      <td>731545</td>\n    </tr>\n    <tr>\n      <th>2</th>\n      <td>AZ</td>\n      <td>Arizona</td>\n      <td>7278717</td>\n    </tr>\n    <tr>\n      <th>3</th>\n      <td>AR</td>\n      <td>Arkansas</td>\n      <td>3017804</td>\n    </tr>\n    <tr>\n      <th>4</th>\n      <td>CA</td>\n      <td>California</td>\n      <td>39512223</td>\n    </tr>\n    <tr>\n      <th>5</th>\n      <td>CO</td>\n      <td>Colorado</td>\n      <td>5758736</td>\n    </tr>\n    <tr>\n      <th>6</th>\n      <td>CT</td>\n      <td>Connecticut</td>\n      <td>3565287</td>\n    </tr>\n    <tr>\n      <th>7</th>\n      <td>DE</td>\n      <td>Delaware</td>\n      <td>973764</td>\n    </tr>\n    <tr>\n      <th>8</th>\n      <td>DC</td>\n      <td>District of Columbia</td>\n      <td>705749</td>\n    </tr>\n    <tr>\n      <th>9</th>\n      <td>FL</td>\n      <td>Florida</td>\n      <td>21477737</td>\n    </tr>\n    <tr>\n      <th>10</th>\n      <td>GA</td>\n      <td>Georgia</td>\n      <td>10617423</td>\n    </tr>\n    <tr>\n      <th>11</th>\n      <td>HI</td>\n      <td>Hawaii</td>\n      <td>1415872</td>\n    </tr>\n    <tr>\n      <th>12</th>\n      <td>ID</td>\n      <td>Idaho</td>\n      <td>1787065</td>\n    </tr>\n    <tr>\n      <th>13</th>\n      <td>IL</td>\n      <td>Illinois</td>\n      <td>12671821</td>\n    </tr>\n    <tr>\n      <th>14</th>\n      <td>IN</td>\n      <td>Indiana</td>\n      <td>6732219</td>\n    </tr>\n    <tr>\n      <th>15</th>\n      <td>IA</td>\n      <td>Iowa</td>\n      <td>3155070</td>\n    </tr>\n    <tr>\n      <th>16</th>\n      <td>KS</td>\n      <td>Kansas</td>\n      <td>2913314</td>\n    </tr>\n    <tr>\n      <th>17</th>\n      <td>KY</td>\n      <td>Kentucky</td>\n      <td>4467673</td>\n    </tr>\n    <tr>\n      <th>18</th>\n      <td>LA</td>\n      <td>Louisiana</td>\n      <td>4648794</td>\n    </tr>\n    <tr>\n      <th>19</th>\n      <td>ME</td>\n      <td>Maine</td>\n      <td>1344212</td>\n    </tr>\n    <tr>\n      <th>20</th>\n      <td>MD</td>\n      <td>Maryland</td>\n      <td>6045680</td>\n    </tr>\n    <tr>\n      <th>21</th>\n      <td>MA</td>\n      <td>Massachusetts</td>\n      <td>6892503</td>\n    </tr>\n    <tr>\n      <th>22</th>\n      <td>MI</td>\n      <td>Michigan</td>\n      <td>9986857</td>\n    </tr>\n    <tr>\n      <th>23</th>\n      <td>MN</td>\n      <td>Minnesota</td>\n      <td>5639632</td>\n    </tr>\n    <tr>\n      <th>24</th>\n      <td>MS</td>\n      <td>Mississippi</td>\n      <td>2976149</td>\n    </tr>\n    <tr>\n      <th>25</th>\n      <td>MO</td>\n      <td>Missouri</td>\n      <td>6137428</td>\n    </tr>\n    <tr>\n      <th>26</th>\n      <td>MT</td>\n      <td>Montana</td>\n      <td>1068778</td>\n    </tr>\n    <tr>\n      <th>27</th>\n      <td>NE</td>\n      <td>Nebraska</td>\n      <td>1934408</td>\n    </tr>\n    <tr>\n      <th>28</th>\n      <td>NV</td>\n      <td>Nevada</td>\n      <td>3080156</td>\n    </tr>\n    <tr>\n      <th>29</th>\n      <td>NH</td>\n      <td>New Hampshire</td>\n      <td>1359711</td>\n    </tr>\n    <tr>\n      <th>30</th>\n      <td>NJ</td>\n      <td>New Jersey</td>\n      <td>8882190</td>\n    </tr>\n    <tr>\n      <th>31</th>\n      <td>NM</td>\n      <td>New Mexico</td>\n      <td>2096829</td>\n    </tr>\n    <tr>\n      <th>32</th>\n      <td>NY</td>\n      <td>New York</td>\n      <td>19453561</td>\n    </tr>\n    <tr>\n      <th>33</th>\n      <td>NC</td>\n      <td>North Carolina</td>\n      <td>10488084</td>\n    </tr>\n    <tr>\n      <th>34</th>\n      <td>ND</td>\n      <td>North Dakota</td>\n      <td>762062</td>\n    </tr>\n    <tr>\n      <th>35</th>\n      <td>OH</td>\n      <td>Ohio</td>\n      <td>11689100</td>\n    </tr>\n    <tr>\n      <th>36</th>\n      <td>OK</td>\n      <td>Oklahoma</td>\n      <td>3956971</td>\n    </tr>\n    <tr>\n      <th>37</th>\n      <td>OR</td>\n      <td>Oregon</td>\n      <td>4217737</td>\n    </tr>\n    <tr>\n      <th>38</th>\n      <td>PA</td>\n      <td>Pennsylvania</td>\n      <td>12801989</td>\n    </tr>\n    <tr>\n      <th>39</th>\n      <td>RI</td>\n      <td>Rhode Island</td>\n      <td>1059361</td>\n    </tr>\n    <tr>\n      <th>40</th>\n      <td>SC</td>\n      <td>South Carolina</td>\n      <td>5148714</td>\n    </tr>\n    <tr>\n      <th>41</th>\n      <td>SD</td>\n      <td>South Dakota</td>\n      <td>884659</td>\n    </tr>\n    <tr>\n      <th>42</th>\n      <td>TN</td>\n      <td>Tennessee</td>\n      <td>6829174</td>\n    </tr>\n    <tr>\n      <th>43</th>\n      <td>TX</td>\n      <td>Texas</td>\n      <td>28995881</td>\n    </tr>\n    <tr>\n      <th>44</th>\n      <td>UT</td>\n      <td>Utah</td>\n      <td>3205958</td>\n    </tr>\n    <tr>\n      <th>45</th>\n      <td>VT</td>\n      <td>Vermont</td>\n      <td>623989</td>\n    </tr>\n    <tr>\n      <th>46</th>\n      <td>VA</td>\n      <td>Virginia</td>\n      <td>8535519</td>\n    </tr>\n    <tr>\n      <th>47</th>\n      <td>WA</td>\n      <td>Washington</td>\n      <td>7614893</td>\n    </tr>\n    <tr>\n      <th>48</th>\n      <td>WV</td>\n      <td>West Virginia</td>\n      <td>1792147</td>\n    </tr>\n    <tr>\n      <th>49</th>\n      <td>WI</td>\n      <td>Wisconsin</td>\n      <td>5822434</td>\n    </tr>\n    <tr>\n      <th>50</th>\n      <td>WY</td>\n      <td>Wyoming</td>\n      <td>578759</td>\n    </tr>\n    <tr>\n      <th>51</th>\n      <td>PR</td>\n      <td>Puerto Rico</td>\n      <td>3193694</td>\n    </tr>\n  </tbody>\n</table>\n</div>"
     },
     "metadata": {},
     "execution_count": 23
    }
   ],
   "source": [
    "state_df"
   ]
  },
  {
   "cell_type": "code",
   "execution_count": null,
   "metadata": {},
   "outputs": [],
   "source": []
  }
 ]
}