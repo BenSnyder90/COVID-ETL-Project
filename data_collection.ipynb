{
 "cells": [
  {
   "cell_type": "markdown",
   "metadata": {},
   "source": [
    "## Dependencies"
   ]
  },
  {
   "cell_type": "code",
   "execution_count": 51,
   "metadata": {},
   "outputs": [],
   "source": [
    "import pandas as pd\n",
    ""
   ]
  },
  {
   "cell_type": "code",
   "execution_count": 52,
   "metadata": {},
   "outputs": [],
   "source": [
    "#Load data CSVs to their own dataframes\n",
    "data_df = pd.read_csv('data/daily.csv')\n",
    "state_df = pd.read_csv('data/us_state_population.csv')"
   ]
  },
  {
   "cell_type": "code",
   "execution_count": 53,
   "metadata": {},
   "outputs": [],
   "source": [
    "#Drop the state column that had numbers\n",
    "state_df = state_df.drop(columns=['state'])\n",
    "\n",
    "#Make a list of the abbreviations of the states, District of Columbia, and Puerto Rico\n",
    "state = ['AL','AK','AZ','AR','CA','CO','CT','DE','DC','FL','GA','HI','ID','IL','IN','IA','KS','KY','LA','ME','MD','MA','MI','MN','MS','MO','MT','NE','NV','NH','NJ','NM','NY','NC','ND','OH','OK','OR','PA','RI','SC','SD','TN','TX','UT','VT','VA','WA','WV','WI','WY','PR']\n",
    "\n",
    "#Add new state column to df using the alphabetical list of states\n",
    "state_df['state'] = state\n",
    "\n",
    "#Reorder the columns\n",
    "state_df = state_df[['state','name','popestimate2019']]"
   ]
  },
  {
   "cell_type": "code",
   "execution_count": 54,
   "metadata": {},
   "outputs": [
    {
     "output_type": "execute_result",
     "data": {
      "text/plain": "  state        name  popestimate2019\n0    AL     Alabama          4903185\n1    AK      Alaska           731545\n2    AZ     Arizona          7278717\n3    AR    Arkansas          3017804\n4    CA  California         39512223",
      "text/html": "<div>\n<style scoped>\n    .dataframe tbody tr th:only-of-type {\n        vertical-align: middle;\n    }\n\n    .dataframe tbody tr th {\n        vertical-align: top;\n    }\n\n    .dataframe thead th {\n        text-align: right;\n    }\n</style>\n<table border=\"1\" class=\"dataframe\">\n  <thead>\n    <tr style=\"text-align: right;\">\n      <th></th>\n      <th>state</th>\n      <th>name</th>\n      <th>popestimate2019</th>\n    </tr>\n  </thead>\n  <tbody>\n    <tr>\n      <th>0</th>\n      <td>AL</td>\n      <td>Alabama</td>\n      <td>4903185</td>\n    </tr>\n    <tr>\n      <th>1</th>\n      <td>AK</td>\n      <td>Alaska</td>\n      <td>731545</td>\n    </tr>\n    <tr>\n      <th>2</th>\n      <td>AZ</td>\n      <td>Arizona</td>\n      <td>7278717</td>\n    </tr>\n    <tr>\n      <th>3</th>\n      <td>AR</td>\n      <td>Arkansas</td>\n      <td>3017804</td>\n    </tr>\n    <tr>\n      <th>4</th>\n      <td>CA</td>\n      <td>California</td>\n      <td>39512223</td>\n    </tr>\n  </tbody>\n</table>\n</div>"
     },
     "metadata": {},
     "execution_count": 54
    }
   ],
   "source": [
    "state_df.head()"
   ]
  },
  {
   "cell_type": "code",
   "execution_count": 55,
   "metadata": {},
   "outputs": [],
   "source": [
    "#Save the population data to a new CSV\n",
    "state_df.to_csv('US_State_Pop.csv', index=False)"
   ]
  },
  {
   "cell_type": "code",
   "execution_count": 56,
   "metadata": {},
   "outputs": [
    {
     "output_type": "execute_result",
     "data": {
      "text/plain": "       date state  positive  negative  pending  hospitalizedCurrently  \\\n0  20200421    AK     329.0   10790.0      NaN                   42.0   \n1  20200421    AL    5231.0   43295.0      NaN                    NaN   \n2  20200421    AR    2227.0   25214.0      NaN                   86.0   \n3  20200421    AS       0.0       3.0     17.0                    NaN   \n4  20200421    AZ    5251.0   49901.0      NaN                  637.0   \n\n   hospitalizedCumulative  inIcuCurrently  inIcuCumulative  \\\n0                    36.0             NaN              NaN   \n1                   699.0             NaN            260.0   \n2                   291.0             NaN              NaN   \n3                     NaN             NaN              NaN   \n4                     NaN           285.0              NaN   \n\n   onVentilatorCurrently  ...  hospitalized    total totalTestResults  \\\n0                    NaN  ...          36.0  11119.0          11119.0   \n1                    NaN  ...         699.0  48526.0          48526.0   \n2                   27.0  ...         291.0  27441.0          27441.0   \n3                    NaN  ...           NaN     20.0              3.0   \n4                  181.0  ...           NaN  55152.0          55152.0   \n\n    posNeg  fips  deathIncrease  hospitalizedIncrease  negativeIncrease  \\\n0  11119.0     2            0.0                   0.0             987.0   \n1  48526.0     1           10.0                  58.0            2420.0   \n2  27441.0     5            1.0                   0.0             584.0   \n3      3.0    60            0.0                   0.0               0.0   \n4  55152.0     4           21.0                   0.0             465.0   \n\n   positiveIncrease  totalTestResultsIncrease  \n0               8.0                     995.0  \n1             206.0                    2626.0  \n2             304.0                     888.0  \n3               0.0                       0.0  \n4             187.0                     652.0  \n\n[5 rows x 25 columns]",
      "text/html": "<div>\n<style scoped>\n    .dataframe tbody tr th:only-of-type {\n        vertical-align: middle;\n    }\n\n    .dataframe tbody tr th {\n        vertical-align: top;\n    }\n\n    .dataframe thead th {\n        text-align: right;\n    }\n</style>\n<table border=\"1\" class=\"dataframe\">\n  <thead>\n    <tr style=\"text-align: right;\">\n      <th></th>\n      <th>date</th>\n      <th>state</th>\n      <th>positive</th>\n      <th>negative</th>\n      <th>pending</th>\n      <th>hospitalizedCurrently</th>\n      <th>hospitalizedCumulative</th>\n      <th>inIcuCurrently</th>\n      <th>inIcuCumulative</th>\n      <th>onVentilatorCurrently</th>\n      <th>...</th>\n      <th>hospitalized</th>\n      <th>total</th>\n      <th>totalTestResults</th>\n      <th>posNeg</th>\n      <th>fips</th>\n      <th>deathIncrease</th>\n      <th>hospitalizedIncrease</th>\n      <th>negativeIncrease</th>\n      <th>positiveIncrease</th>\n      <th>totalTestResultsIncrease</th>\n    </tr>\n  </thead>\n  <tbody>\n    <tr>\n      <th>0</th>\n      <td>20200421</td>\n      <td>AK</td>\n      <td>329.0</td>\n      <td>10790.0</td>\n      <td>NaN</td>\n      <td>42.0</td>\n      <td>36.0</td>\n      <td>NaN</td>\n      <td>NaN</td>\n      <td>NaN</td>\n      <td>...</td>\n      <td>36.0</td>\n      <td>11119.0</td>\n      <td>11119.0</td>\n      <td>11119.0</td>\n      <td>2</td>\n      <td>0.0</td>\n      <td>0.0</td>\n      <td>987.0</td>\n      <td>8.0</td>\n      <td>995.0</td>\n    </tr>\n    <tr>\n      <th>1</th>\n      <td>20200421</td>\n      <td>AL</td>\n      <td>5231.0</td>\n      <td>43295.0</td>\n      <td>NaN</td>\n      <td>NaN</td>\n      <td>699.0</td>\n      <td>NaN</td>\n      <td>260.0</td>\n      <td>NaN</td>\n      <td>...</td>\n      <td>699.0</td>\n      <td>48526.0</td>\n      <td>48526.0</td>\n      <td>48526.0</td>\n      <td>1</td>\n      <td>10.0</td>\n      <td>58.0</td>\n      <td>2420.0</td>\n      <td>206.0</td>\n      <td>2626.0</td>\n    </tr>\n    <tr>\n      <th>2</th>\n      <td>20200421</td>\n      <td>AR</td>\n      <td>2227.0</td>\n      <td>25214.0</td>\n      <td>NaN</td>\n      <td>86.0</td>\n      <td>291.0</td>\n      <td>NaN</td>\n      <td>NaN</td>\n      <td>27.0</td>\n      <td>...</td>\n      <td>291.0</td>\n      <td>27441.0</td>\n      <td>27441.0</td>\n      <td>27441.0</td>\n      <td>5</td>\n      <td>1.0</td>\n      <td>0.0</td>\n      <td>584.0</td>\n      <td>304.0</td>\n      <td>888.0</td>\n    </tr>\n    <tr>\n      <th>3</th>\n      <td>20200421</td>\n      <td>AS</td>\n      <td>0.0</td>\n      <td>3.0</td>\n      <td>17.0</td>\n      <td>NaN</td>\n      <td>NaN</td>\n      <td>NaN</td>\n      <td>NaN</td>\n      <td>NaN</td>\n      <td>...</td>\n      <td>NaN</td>\n      <td>20.0</td>\n      <td>3.0</td>\n      <td>3.0</td>\n      <td>60</td>\n      <td>0.0</td>\n      <td>0.0</td>\n      <td>0.0</td>\n      <td>0.0</td>\n      <td>0.0</td>\n    </tr>\n    <tr>\n      <th>4</th>\n      <td>20200421</td>\n      <td>AZ</td>\n      <td>5251.0</td>\n      <td>49901.0</td>\n      <td>NaN</td>\n      <td>637.0</td>\n      <td>NaN</td>\n      <td>285.0</td>\n      <td>NaN</td>\n      <td>181.0</td>\n      <td>...</td>\n      <td>NaN</td>\n      <td>55152.0</td>\n      <td>55152.0</td>\n      <td>55152.0</td>\n      <td>4</td>\n      <td>21.0</td>\n      <td>0.0</td>\n      <td>465.0</td>\n      <td>187.0</td>\n      <td>652.0</td>\n    </tr>\n  </tbody>\n</table>\n<p>5 rows × 25 columns</p>\n</div>"
     },
     "metadata": {},
     "execution_count": 56
    }
   ],
   "source": [
    "data_df.head()"
   ]
  },
  {
   "cell_type": "code",
   "execution_count": 57,
   "metadata": {},
   "outputs": [
    {
     "output_type": "execute_result",
     "data": {
      "text/plain": "          date state  positive_tests  total_tests  death\n0     20200421    AK           329.0      11119.0    9.0\n1     20200421    AL          5231.0      48526.0  177.0\n2     20200421    AR          2227.0      27441.0   43.0\n3     20200421    AS             0.0         20.0    NaN\n4     20200421    AZ          5251.0      55152.0  208.0\n...        ...   ...             ...          ...    ...\n2615  20200301    MI             9.0          9.0    NaN\n2616  20200301    RI             1.0          1.0    NaN\n2617  20200301    WA            30.0         30.0    8.0\n2618  20200229    WA            18.0         18.0    5.0\n2619  20200228    WA             9.0          9.0    4.0\n\n[2620 rows x 5 columns]",
      "text/html": "<div>\n<style scoped>\n    .dataframe tbody tr th:only-of-type {\n        vertical-align: middle;\n    }\n\n    .dataframe tbody tr th {\n        vertical-align: top;\n    }\n\n    .dataframe thead th {\n        text-align: right;\n    }\n</style>\n<table border=\"1\" class=\"dataframe\">\n  <thead>\n    <tr style=\"text-align: right;\">\n      <th></th>\n      <th>date</th>\n      <th>state</th>\n      <th>positive_tests</th>\n      <th>total_tests</th>\n      <th>death</th>\n    </tr>\n  </thead>\n  <tbody>\n    <tr>\n      <th>0</th>\n      <td>20200421</td>\n      <td>AK</td>\n      <td>329.0</td>\n      <td>11119.0</td>\n      <td>9.0</td>\n    </tr>\n    <tr>\n      <th>1</th>\n      <td>20200421</td>\n      <td>AL</td>\n      <td>5231.0</td>\n      <td>48526.0</td>\n      <td>177.0</td>\n    </tr>\n    <tr>\n      <th>2</th>\n      <td>20200421</td>\n      <td>AR</td>\n      <td>2227.0</td>\n      <td>27441.0</td>\n      <td>43.0</td>\n    </tr>\n    <tr>\n      <th>3</th>\n      <td>20200421</td>\n      <td>AS</td>\n      <td>0.0</td>\n      <td>20.0</td>\n      <td>NaN</td>\n    </tr>\n    <tr>\n      <th>4</th>\n      <td>20200421</td>\n      <td>AZ</td>\n      <td>5251.0</td>\n      <td>55152.0</td>\n      <td>208.0</td>\n    </tr>\n    <tr>\n      <th>...</th>\n      <td>...</td>\n      <td>...</td>\n      <td>...</td>\n      <td>...</td>\n      <td>...</td>\n    </tr>\n    <tr>\n      <th>2615</th>\n      <td>20200301</td>\n      <td>MI</td>\n      <td>9.0</td>\n      <td>9.0</td>\n      <td>NaN</td>\n    </tr>\n    <tr>\n      <th>2616</th>\n      <td>20200301</td>\n      <td>RI</td>\n      <td>1.0</td>\n      <td>1.0</td>\n      <td>NaN</td>\n    </tr>\n    <tr>\n      <th>2617</th>\n      <td>20200301</td>\n      <td>WA</td>\n      <td>30.0</td>\n      <td>30.0</td>\n      <td>8.0</td>\n    </tr>\n    <tr>\n      <th>2618</th>\n      <td>20200229</td>\n      <td>WA</td>\n      <td>18.0</td>\n      <td>18.0</td>\n      <td>5.0</td>\n    </tr>\n    <tr>\n      <th>2619</th>\n      <td>20200228</td>\n      <td>WA</td>\n      <td>9.0</td>\n      <td>9.0</td>\n      <td>4.0</td>\n    </tr>\n  </tbody>\n</table>\n<p>2620 rows × 5 columns</p>\n</div>"
     },
     "metadata": {},
     "execution_count": 57
    }
   ],
   "source": [
    "#Make a new dataframe using only the columns we want to see\n",
    "covid_df = data_df[['date','state','positive','total','death']]\n",
    "\n",
    "#Rename columns for clarity\n",
    "covid_df = covid_df.rename(columns={'positive':'positive_tests','total':'total_tests'})\n",
    "\n",
    "covid_df"
   ]
  },
  {
   "cell_type": "code",
   "execution_count": 58,
   "metadata": {},
   "outputs": [
    {
     "output_type": "execute_result",
     "data": {
      "text/plain": "          date state  positive_tests  total_tests   death\n0     20200421    AK           329.0      11119.0     9.0\n1     20200421    AL          5231.0      48526.0   177.0\n2     20200421    AR          2227.0      27441.0    43.0\n4     20200421    AZ          5251.0      55152.0   208.0\n5     20200421    CA         33261.0     300100.0  1268.0\n...        ...   ...             ...          ...     ...\n2615  20200301    MI             9.0          9.0     NaN\n2616  20200301    RI             1.0          1.0     NaN\n2617  20200301    WA            30.0         30.0     8.0\n2618  20200229    WA            18.0         18.0     5.0\n2619  20200228    WA             9.0          9.0     4.0\n\n[2472 rows x 5 columns]",
      "text/html": "<div>\n<style scoped>\n    .dataframe tbody tr th:only-of-type {\n        vertical-align: middle;\n    }\n\n    .dataframe tbody tr th {\n        vertical-align: top;\n    }\n\n    .dataframe thead th {\n        text-align: right;\n    }\n</style>\n<table border=\"1\" class=\"dataframe\">\n  <thead>\n    <tr style=\"text-align: right;\">\n      <th></th>\n      <th>date</th>\n      <th>state</th>\n      <th>positive_tests</th>\n      <th>total_tests</th>\n      <th>death</th>\n    </tr>\n  </thead>\n  <tbody>\n    <tr>\n      <th>0</th>\n      <td>20200421</td>\n      <td>AK</td>\n      <td>329.0</td>\n      <td>11119.0</td>\n      <td>9.0</td>\n    </tr>\n    <tr>\n      <th>1</th>\n      <td>20200421</td>\n      <td>AL</td>\n      <td>5231.0</td>\n      <td>48526.0</td>\n      <td>177.0</td>\n    </tr>\n    <tr>\n      <th>2</th>\n      <td>20200421</td>\n      <td>AR</td>\n      <td>2227.0</td>\n      <td>27441.0</td>\n      <td>43.0</td>\n    </tr>\n    <tr>\n      <th>4</th>\n      <td>20200421</td>\n      <td>AZ</td>\n      <td>5251.0</td>\n      <td>55152.0</td>\n      <td>208.0</td>\n    </tr>\n    <tr>\n      <th>5</th>\n      <td>20200421</td>\n      <td>CA</td>\n      <td>33261.0</td>\n      <td>300100.0</td>\n      <td>1268.0</td>\n    </tr>\n    <tr>\n      <th>...</th>\n      <td>...</td>\n      <td>...</td>\n      <td>...</td>\n      <td>...</td>\n      <td>...</td>\n    </tr>\n    <tr>\n      <th>2615</th>\n      <td>20200301</td>\n      <td>MI</td>\n      <td>9.0</td>\n      <td>9.0</td>\n      <td>NaN</td>\n    </tr>\n    <tr>\n      <th>2616</th>\n      <td>20200301</td>\n      <td>RI</td>\n      <td>1.0</td>\n      <td>1.0</td>\n      <td>NaN</td>\n    </tr>\n    <tr>\n      <th>2617</th>\n      <td>20200301</td>\n      <td>WA</td>\n      <td>30.0</td>\n      <td>30.0</td>\n      <td>8.0</td>\n    </tr>\n    <tr>\n      <th>2618</th>\n      <td>20200229</td>\n      <td>WA</td>\n      <td>18.0</td>\n      <td>18.0</td>\n      <td>5.0</td>\n    </tr>\n    <tr>\n      <th>2619</th>\n      <td>20200228</td>\n      <td>WA</td>\n      <td>9.0</td>\n      <td>9.0</td>\n      <td>4.0</td>\n    </tr>\n  </tbody>\n</table>\n<p>2472 rows × 5 columns</p>\n</div>"
     },
     "metadata": {},
     "execution_count": 58
    }
   ],
   "source": [
    "#Drop the columns for the countries outside of the 50 states and DC\n",
    "covid_df = covid_df[covid_df.state !='AS']\n",
    "covid_df = covid_df[covid_df.state !='GU']\n",
    "covid_df = covid_df[covid_df.state !='MP']\n",
    "covid_df = covid_df[covid_df.state !='PR']\n",
    "\n",
    "covid_df"
   ]
  },
  {
   "cell_type": "code",
   "execution_count": 59,
   "metadata": {},
   "outputs": [],
   "source": [
    "#Save to a new CSV\n",
    "covid_df.to_csv('Daily_COVID_Stats.csv', index=False)"
   ]
  },
  {
   "cell_type": "code",
   "execution_count": 67,
   "metadata": {},
   "outputs": [
    {
     "output_type": "execute_result",
     "data": {
      "text/plain": "       date state  positive_tests  total_tests  death    name  popestimate2019\n0  20200421    AK           329.0      11119.0    9.0  Alaska           731545\n1  20200420    AK           321.0      10124.0    9.0  Alaska           731545\n2  20200419    AK           319.0       9895.0    9.0  Alaska           731545\n3  20200418    AK           314.0       9655.0    9.0  Alaska           731545\n4  20200417    AK           309.0       9450.0    9.0  Alaska           731545",
      "text/html": "<div>\n<style scoped>\n    .dataframe tbody tr th:only-of-type {\n        vertical-align: middle;\n    }\n\n    .dataframe tbody tr th {\n        vertical-align: top;\n    }\n\n    .dataframe thead th {\n        text-align: right;\n    }\n</style>\n<table border=\"1\" class=\"dataframe\">\n  <thead>\n    <tr style=\"text-align: right;\">\n      <th></th>\n      <th>date</th>\n      <th>state</th>\n      <th>positive_tests</th>\n      <th>total_tests</th>\n      <th>death</th>\n      <th>name</th>\n      <th>popestimate2019</th>\n    </tr>\n  </thead>\n  <tbody>\n    <tr>\n      <th>0</th>\n      <td>20200421</td>\n      <td>AK</td>\n      <td>329.0</td>\n      <td>11119.0</td>\n      <td>9.0</td>\n      <td>Alaska</td>\n      <td>731545</td>\n    </tr>\n    <tr>\n      <th>1</th>\n      <td>20200420</td>\n      <td>AK</td>\n      <td>321.0</td>\n      <td>10124.0</td>\n      <td>9.0</td>\n      <td>Alaska</td>\n      <td>731545</td>\n    </tr>\n    <tr>\n      <th>2</th>\n      <td>20200419</td>\n      <td>AK</td>\n      <td>319.0</td>\n      <td>9895.0</td>\n      <td>9.0</td>\n      <td>Alaska</td>\n      <td>731545</td>\n    </tr>\n    <tr>\n      <th>3</th>\n      <td>20200418</td>\n      <td>AK</td>\n      <td>314.0</td>\n      <td>9655.0</td>\n      <td>9.0</td>\n      <td>Alaska</td>\n      <td>731545</td>\n    </tr>\n    <tr>\n      <th>4</th>\n      <td>20200417</td>\n      <td>AK</td>\n      <td>309.0</td>\n      <td>9450.0</td>\n      <td>9.0</td>\n      <td>Alaska</td>\n      <td>731545</td>\n    </tr>\n  </tbody>\n</table>\n</div>"
     },
     "metadata": {},
     "execution_count": 67
    }
   ],
   "source": [
    "#Merge tables on state abbreviation. Inner merge to add state names and population to every column\n",
    "combined_df = pd.merge(covid_df, state_df, on='state')\n",
    "\n",
    "combined_df.head()"
   ]
  },
  {
   "cell_type": "code",
   "execution_count": 68,
   "metadata": {},
   "outputs": [],
   "source": [
    "#Sort the values by the date and state name, in descending order by date and ascending order by name\n",
    "combined_df = combined_df.sort_values(['date', 'name'], ascending =(False,True))"
   ]
  },
  {
   "cell_type": "code",
   "execution_count": 69,
   "metadata": {},
   "outputs": [
    {
     "output_type": "execute_result",
     "data": {
      "text/plain": "         date state  positive_tests  total_tests   death  \\\n47   20200421    AL          5231.0      48526.0   177.0   \n0    20200421    AK           329.0      11119.0     9.0   \n140  20200421    AZ          5251.0      55152.0   208.0   \n93   20200421    AR          2227.0      27441.0    43.0   \n189  20200421    CA         33261.0     300100.0  1268.0   \n238  20200421    CO         10106.0      47466.0   449.0   \n286  20200421    CT         20360.0      64192.0  1423.0   \n380  20200421    DE          2931.0      16656.0    82.0   \n332  20200421    DC          3098.0      14939.0   112.0   \n427  20200421    FL         27495.0     278262.0   856.0   \n\n                     name  popestimate2019  pct_tested  tested_per_million  \n47                Alabama          4903185        0.99              9897.0  \n0                  Alaska           731545        1.52             15199.0  \n140               Arizona          7278717        0.76              7577.0  \n93               Arkansas          3017804        0.91              9093.0  \n189            California         39512223        0.76              7595.0  \n238              Colorado          5758736        0.82              8242.0  \n286           Connecticut          3565287        1.80             18005.0  \n380              Delaware           973764        1.71             17105.0  \n332  District of Columbia           705749        2.12             21168.0  \n427               Florida         21477737        1.30             12956.0  ",
      "text/html": "<div>\n<style scoped>\n    .dataframe tbody tr th:only-of-type {\n        vertical-align: middle;\n    }\n\n    .dataframe tbody tr th {\n        vertical-align: top;\n    }\n\n    .dataframe thead th {\n        text-align: right;\n    }\n</style>\n<table border=\"1\" class=\"dataframe\">\n  <thead>\n    <tr style=\"text-align: right;\">\n      <th></th>\n      <th>date</th>\n      <th>state</th>\n      <th>positive_tests</th>\n      <th>total_tests</th>\n      <th>death</th>\n      <th>name</th>\n      <th>popestimate2019</th>\n      <th>pct_tested</th>\n      <th>tested_per_million</th>\n    </tr>\n  </thead>\n  <tbody>\n    <tr>\n      <th>47</th>\n      <td>20200421</td>\n      <td>AL</td>\n      <td>5231.0</td>\n      <td>48526.0</td>\n      <td>177.0</td>\n      <td>Alabama</td>\n      <td>4903185</td>\n      <td>0.99</td>\n      <td>9897.0</td>\n    </tr>\n    <tr>\n      <th>0</th>\n      <td>20200421</td>\n      <td>AK</td>\n      <td>329.0</td>\n      <td>11119.0</td>\n      <td>9.0</td>\n      <td>Alaska</td>\n      <td>731545</td>\n      <td>1.52</td>\n      <td>15199.0</td>\n    </tr>\n    <tr>\n      <th>140</th>\n      <td>20200421</td>\n      <td>AZ</td>\n      <td>5251.0</td>\n      <td>55152.0</td>\n      <td>208.0</td>\n      <td>Arizona</td>\n      <td>7278717</td>\n      <td>0.76</td>\n      <td>7577.0</td>\n    </tr>\n    <tr>\n      <th>93</th>\n      <td>20200421</td>\n      <td>AR</td>\n      <td>2227.0</td>\n      <td>27441.0</td>\n      <td>43.0</td>\n      <td>Arkansas</td>\n      <td>3017804</td>\n      <td>0.91</td>\n      <td>9093.0</td>\n    </tr>\n    <tr>\n      <th>189</th>\n      <td>20200421</td>\n      <td>CA</td>\n      <td>33261.0</td>\n      <td>300100.0</td>\n      <td>1268.0</td>\n      <td>California</td>\n      <td>39512223</td>\n      <td>0.76</td>\n      <td>7595.0</td>\n    </tr>\n    <tr>\n      <th>238</th>\n      <td>20200421</td>\n      <td>CO</td>\n      <td>10106.0</td>\n      <td>47466.0</td>\n      <td>449.0</td>\n      <td>Colorado</td>\n      <td>5758736</td>\n      <td>0.82</td>\n      <td>8242.0</td>\n    </tr>\n    <tr>\n      <th>286</th>\n      <td>20200421</td>\n      <td>CT</td>\n      <td>20360.0</td>\n      <td>64192.0</td>\n      <td>1423.0</td>\n      <td>Connecticut</td>\n      <td>3565287</td>\n      <td>1.80</td>\n      <td>18005.0</td>\n    </tr>\n    <tr>\n      <th>380</th>\n      <td>20200421</td>\n      <td>DE</td>\n      <td>2931.0</td>\n      <td>16656.0</td>\n      <td>82.0</td>\n      <td>Delaware</td>\n      <td>973764</td>\n      <td>1.71</td>\n      <td>17105.0</td>\n    </tr>\n    <tr>\n      <th>332</th>\n      <td>20200421</td>\n      <td>DC</td>\n      <td>3098.0</td>\n      <td>14939.0</td>\n      <td>112.0</td>\n      <td>District of Columbia</td>\n      <td>705749</td>\n      <td>2.12</td>\n      <td>21168.0</td>\n    </tr>\n    <tr>\n      <th>427</th>\n      <td>20200421</td>\n      <td>FL</td>\n      <td>27495.0</td>\n      <td>278262.0</td>\n      <td>856.0</td>\n      <td>Florida</td>\n      <td>21477737</td>\n      <td>1.30</td>\n      <td>12956.0</td>\n    </tr>\n  </tbody>\n</table>\n</div>"
     },
     "metadata": {},
     "execution_count": 69
    }
   ],
   "source": [
    "#Add a column for percentage tested vs the total population for each state\n",
    "combined_df['pct_tested'] = round((combined_df['total_tests']/combined_df['popestimate2019']) *100,2)\n",
    "\n",
    "#Add a column for total cases per million\n",
    "combined_df['tested_per_million'] = round((combined_df['total_tests']/combined_df['popestimate2019'])*1000000,0)\n",
    "combined_df.head(10)"
   ]
  },
  {
   "cell_type": "code",
   "execution_count": 70,
   "metadata": {},
   "outputs": [
    {
     "output_type": "execute_result",
     "data": {
      "text/plain": "         date state        name  positive_tests   death  total_tests  \\\n47   20200421    AL     Alabama          5231.0   177.0      48526.0   \n0    20200421    AK      Alaska           329.0     9.0      11119.0   \n140  20200421    AZ     Arizona          5251.0   208.0      55152.0   \n93   20200421    AR    Arkansas          2227.0    43.0      27441.0   \n189  20200421    CA  California         33261.0  1268.0     300100.0   \n\n     popestimate2019  pct_tested  tested_per_million  \n47           4903185        0.99              9897.0  \n0             731545        1.52             15199.0  \n140          7278717        0.76              7577.0  \n93           3017804        0.91              9093.0  \n189         39512223        0.76              7595.0  ",
      "text/html": "<div>\n<style scoped>\n    .dataframe tbody tr th:only-of-type {\n        vertical-align: middle;\n    }\n\n    .dataframe tbody tr th {\n        vertical-align: top;\n    }\n\n    .dataframe thead th {\n        text-align: right;\n    }\n</style>\n<table border=\"1\" class=\"dataframe\">\n  <thead>\n    <tr style=\"text-align: right;\">\n      <th></th>\n      <th>date</th>\n      <th>state</th>\n      <th>name</th>\n      <th>positive_tests</th>\n      <th>death</th>\n      <th>total_tests</th>\n      <th>popestimate2019</th>\n      <th>pct_tested</th>\n      <th>tested_per_million</th>\n    </tr>\n  </thead>\n  <tbody>\n    <tr>\n      <th>47</th>\n      <td>20200421</td>\n      <td>AL</td>\n      <td>Alabama</td>\n      <td>5231.0</td>\n      <td>177.0</td>\n      <td>48526.0</td>\n      <td>4903185</td>\n      <td>0.99</td>\n      <td>9897.0</td>\n    </tr>\n    <tr>\n      <th>0</th>\n      <td>20200421</td>\n      <td>AK</td>\n      <td>Alaska</td>\n      <td>329.0</td>\n      <td>9.0</td>\n      <td>11119.0</td>\n      <td>731545</td>\n      <td>1.52</td>\n      <td>15199.0</td>\n    </tr>\n    <tr>\n      <th>140</th>\n      <td>20200421</td>\n      <td>AZ</td>\n      <td>Arizona</td>\n      <td>5251.0</td>\n      <td>208.0</td>\n      <td>55152.0</td>\n      <td>7278717</td>\n      <td>0.76</td>\n      <td>7577.0</td>\n    </tr>\n    <tr>\n      <th>93</th>\n      <td>20200421</td>\n      <td>AR</td>\n      <td>Arkansas</td>\n      <td>2227.0</td>\n      <td>43.0</td>\n      <td>27441.0</td>\n      <td>3017804</td>\n      <td>0.91</td>\n      <td>9093.0</td>\n    </tr>\n    <tr>\n      <th>189</th>\n      <td>20200421</td>\n      <td>CA</td>\n      <td>California</td>\n      <td>33261.0</td>\n      <td>1268.0</td>\n      <td>300100.0</td>\n      <td>39512223</td>\n      <td>0.76</td>\n      <td>7595.0</td>\n    </tr>\n  </tbody>\n</table>\n</div>"
     },
     "metadata": {},
     "execution_count": 70
    }
   ],
   "source": [
    "#Reorder columns for clarity\n",
    "combined_df = combined_df[['date','state','name','positive_tests','death','total_tests','popestimate2019','pct_tested','tested_per_million']]\n",
    "combined_df.head()"
   ]
  },
  {
   "cell_type": "code",
   "execution_count": 71,
   "metadata": {},
   "outputs": [],
   "source": [
    "#Save dataframe to CSV\n",
    "combined_df.to_csv('Final_COVID_Data.csv',index=False)"
   ]
  }
 ],
 "metadata": {
  "language_info": {
   "name": "python",
   "codemirror_mode": {
    "name": "ipython",
    "version": 3
   },
   "version": "3.7.4-final"
  },
  "orig_nbformat": 2,
  "file_extension": ".py",
  "mimetype": "text/x-python",
  "name": "python",
  "npconvert_exporter": "python",
  "pygments_lexer": "ipython3",
  "version": 3,
  "kernelspec": {
   "name": "python37464bitpythondatacondaaf71fc3f5dd34866a438487bc0d8ac87",
   "display_name": "Python 3.7.4 64-bit ('PythonData': conda)"
  }
 },
 "nbformat": 4,
 "nbformat_minor": 2
}