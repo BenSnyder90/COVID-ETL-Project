{
 "cells": [
  {
   "cell_type": "markdown",
   "metadata": {},
   "source": [
    "## Dependencies"
   ]
  },
  {
   "cell_type": "code",
   "execution_count": 2,
   "metadata": {},
   "outputs": [],
   "source": [
    "import pandas as pd\n",
    ""
   ]
  },
  {
   "cell_type": "code",
   "execution_count": 3,
   "metadata": {},
   "outputs": [],
   "source": [
    "#Load data CSVs to their own dataframes\n",
    "data_df = pd.read_csv('data/daily.csv')\n",
    "state_df = pd.read_csv('data/us_state_population.csv')"
   ]
  },
  {
   "cell_type": "code",
   "execution_count": 4,
   "metadata": {},
   "outputs": [],
   "source": [
    "#Drop the state column that had numbers\n",
    "state_df = state_df.drop(columns=['state'])\n",
    "\n",
    "#Make a list of the abbreviations of the states, District of Columbia, and Puerto Rico\n",
    "state = ['AL','AK','AZ','AR','CA','CO','CT','DE','DC','FL','GA','HI','ID','IL','IN','IA','KS','KY','LA','ME','MD','MA','MI','MN','MS','MO','MT','NE','NV','NH','NJ','NM','NY','NC','ND','OH','OK','OR','PA','RI','SC','SD','TN','TX','UT','VT','VA','WA','WV','WI','WY','PR']\n",
    "\n",
    "#Add new state column to df\n",
    "state_df['state'] = state\n",
    "\n",
    "#Reorder the columns\n",
    "state_df = state_df[['state','name','popestimate2019']]"
   ]
  },
  {
   "cell_type": "code",
   "execution_count": 6,
   "metadata": {},
   "outputs": [],
   "source": [
    "#Save the population data to a new CSV\n",
    "state_df.to_csv('pop_data.csv', index=False)"
   ]
  },
  {
   "cell_type": "code",
   "execution_count": 7,
   "metadata": {},
   "outputs": [
    {
     "output_type": "execute_result",
     "data": {
      "text/plain": "       date state  positive  negative  pending  hospitalizedCurrently  \\\n0  20200421    AK     329.0   10790.0      NaN                   42.0   \n1  20200421    AL    5231.0   43295.0      NaN                    NaN   \n2  20200421    AR    2227.0   25214.0      NaN                   86.0   \n3  20200421    AS       0.0       3.0     17.0                    NaN   \n4  20200421    AZ    5251.0   49901.0      NaN                  637.0   \n\n   hospitalizedCumulative  inIcuCurrently  inIcuCumulative  \\\n0                    36.0             NaN              NaN   \n1                   699.0             NaN            260.0   \n2                   291.0             NaN              NaN   \n3                     NaN             NaN              NaN   \n4                     NaN           285.0              NaN   \n\n   onVentilatorCurrently  ...  hospitalized    total totalTestResults  \\\n0                    NaN  ...          36.0  11119.0          11119.0   \n1                    NaN  ...         699.0  48526.0          48526.0   \n2                   27.0  ...         291.0  27441.0          27441.0   \n3                    NaN  ...           NaN     20.0              3.0   \n4                  181.0  ...           NaN  55152.0          55152.0   \n\n    posNeg  fips  deathIncrease  hospitalizedIncrease  negativeIncrease  \\\n0  11119.0     2            0.0                   0.0             987.0   \n1  48526.0     1           10.0                  58.0            2420.0   \n2  27441.0     5            1.0                   0.0             584.0   \n3      3.0    60            0.0                   0.0               0.0   \n4  55152.0     4           21.0                   0.0             465.0   \n\n   positiveIncrease  totalTestResultsIncrease  \n0               8.0                     995.0  \n1             206.0                    2626.0  \n2             304.0                     888.0  \n3               0.0                       0.0  \n4             187.0                     652.0  \n\n[5 rows x 25 columns]",
      "text/html": "<div>\n<style scoped>\n    .dataframe tbody tr th:only-of-type {\n        vertical-align: middle;\n    }\n\n    .dataframe tbody tr th {\n        vertical-align: top;\n    }\n\n    .dataframe thead th {\n        text-align: right;\n    }\n</style>\n<table border=\"1\" class=\"dataframe\">\n  <thead>\n    <tr style=\"text-align: right;\">\n      <th></th>\n      <th>date</th>\n      <th>state</th>\n      <th>positive</th>\n      <th>negative</th>\n      <th>pending</th>\n      <th>hospitalizedCurrently</th>\n      <th>hospitalizedCumulative</th>\n      <th>inIcuCurrently</th>\n      <th>inIcuCumulative</th>\n      <th>onVentilatorCurrently</th>\n      <th>...</th>\n      <th>hospitalized</th>\n      <th>total</th>\n      <th>totalTestResults</th>\n      <th>posNeg</th>\n      <th>fips</th>\n      <th>deathIncrease</th>\n      <th>hospitalizedIncrease</th>\n      <th>negativeIncrease</th>\n      <th>positiveIncrease</th>\n      <th>totalTestResultsIncrease</th>\n    </tr>\n  </thead>\n  <tbody>\n    <tr>\n      <th>0</th>\n      <td>20200421</td>\n      <td>AK</td>\n      <td>329.0</td>\n      <td>10790.0</td>\n      <td>NaN</td>\n      <td>42.0</td>\n      <td>36.0</td>\n      <td>NaN</td>\n      <td>NaN</td>\n      <td>NaN</td>\n      <td>...</td>\n      <td>36.0</td>\n      <td>11119.0</td>\n      <td>11119.0</td>\n      <td>11119.0</td>\n      <td>2</td>\n      <td>0.0</td>\n      <td>0.0</td>\n      <td>987.0</td>\n      <td>8.0</td>\n      <td>995.0</td>\n    </tr>\n    <tr>\n      <th>1</th>\n      <td>20200421</td>\n      <td>AL</td>\n      <td>5231.0</td>\n      <td>43295.0</td>\n      <td>NaN</td>\n      <td>NaN</td>\n      <td>699.0</td>\n      <td>NaN</td>\n      <td>260.0</td>\n      <td>NaN</td>\n      <td>...</td>\n      <td>699.0</td>\n      <td>48526.0</td>\n      <td>48526.0</td>\n      <td>48526.0</td>\n      <td>1</td>\n      <td>10.0</td>\n      <td>58.0</td>\n      <td>2420.0</td>\n      <td>206.0</td>\n      <td>2626.0</td>\n    </tr>\n    <tr>\n      <th>2</th>\n      <td>20200421</td>\n      <td>AR</td>\n      <td>2227.0</td>\n      <td>25214.0</td>\n      <td>NaN</td>\n      <td>86.0</td>\n      <td>291.0</td>\n      <td>NaN</td>\n      <td>NaN</td>\n      <td>27.0</td>\n      <td>...</td>\n      <td>291.0</td>\n      <td>27441.0</td>\n      <td>27441.0</td>\n      <td>27441.0</td>\n      <td>5</td>\n      <td>1.0</td>\n      <td>0.0</td>\n      <td>584.0</td>\n      <td>304.0</td>\n      <td>888.0</td>\n    </tr>\n    <tr>\n      <th>3</th>\n      <td>20200421</td>\n      <td>AS</td>\n      <td>0.0</td>\n      <td>3.0</td>\n      <td>17.0</td>\n      <td>NaN</td>\n      <td>NaN</td>\n      <td>NaN</td>\n      <td>NaN</td>\n      <td>NaN</td>\n      <td>...</td>\n      <td>NaN</td>\n      <td>20.0</td>\n      <td>3.0</td>\n      <td>3.0</td>\n      <td>60</td>\n      <td>0.0</td>\n      <td>0.0</td>\n      <td>0.0</td>\n      <td>0.0</td>\n      <td>0.0</td>\n    </tr>\n    <tr>\n      <th>4</th>\n      <td>20200421</td>\n      <td>AZ</td>\n      <td>5251.0</td>\n      <td>49901.0</td>\n      <td>NaN</td>\n      <td>637.0</td>\n      <td>NaN</td>\n      <td>285.0</td>\n      <td>NaN</td>\n      <td>181.0</td>\n      <td>...</td>\n      <td>NaN</td>\n      <td>55152.0</td>\n      <td>55152.0</td>\n      <td>55152.0</td>\n      <td>4</td>\n      <td>21.0</td>\n      <td>0.0</td>\n      <td>465.0</td>\n      <td>187.0</td>\n      <td>652.0</td>\n    </tr>\n  </tbody>\n</table>\n<p>5 rows × 25 columns</p>\n</div>"
     },
     "metadata": {},
     "execution_count": 7
    }
   ],
   "source": [
    "data_df.head()"
   ]
  },
  {
   "cell_type": "code",
   "execution_count": 13,
   "metadata": {},
   "outputs": [
    {
     "output_type": "execute_result",
     "data": {
      "text/plain": "          date state  positive    total  death\n0     20200421    AK     329.0  11119.0    9.0\n1     20200421    AL    5231.0  48526.0  177.0\n2     20200421    AR    2227.0  27441.0   43.0\n3     20200421    AS       0.0     20.0    NaN\n4     20200421    AZ    5251.0  55152.0  208.0\n...        ...   ...       ...      ...    ...\n2615  20200301    MI       9.0      9.0    NaN\n2616  20200301    RI       1.0      1.0    NaN\n2617  20200301    WA      30.0     30.0    8.0\n2618  20200229    WA      18.0     18.0    5.0\n2619  20200228    WA       9.0      9.0    4.0\n\n[2620 rows x 5 columns]",
      "text/html": "<div>\n<style scoped>\n    .dataframe tbody tr th:only-of-type {\n        vertical-align: middle;\n    }\n\n    .dataframe tbody tr th {\n        vertical-align: top;\n    }\n\n    .dataframe thead th {\n        text-align: right;\n    }\n</style>\n<table border=\"1\" class=\"dataframe\">\n  <thead>\n    <tr style=\"text-align: right;\">\n      <th></th>\n      <th>date</th>\n      <th>state</th>\n      <th>positive</th>\n      <th>total</th>\n      <th>death</th>\n    </tr>\n  </thead>\n  <tbody>\n    <tr>\n      <th>0</th>\n      <td>20200421</td>\n      <td>AK</td>\n      <td>329.0</td>\n      <td>11119.0</td>\n      <td>9.0</td>\n    </tr>\n    <tr>\n      <th>1</th>\n      <td>20200421</td>\n      <td>AL</td>\n      <td>5231.0</td>\n      <td>48526.0</td>\n      <td>177.0</td>\n    </tr>\n    <tr>\n      <th>2</th>\n      <td>20200421</td>\n      <td>AR</td>\n      <td>2227.0</td>\n      <td>27441.0</td>\n      <td>43.0</td>\n    </tr>\n    <tr>\n      <th>3</th>\n      <td>20200421</td>\n      <td>AS</td>\n      <td>0.0</td>\n      <td>20.0</td>\n      <td>NaN</td>\n    </tr>\n    <tr>\n      <th>4</th>\n      <td>20200421</td>\n      <td>AZ</td>\n      <td>5251.0</td>\n      <td>55152.0</td>\n      <td>208.0</td>\n    </tr>\n    <tr>\n      <th>...</th>\n      <td>...</td>\n      <td>...</td>\n      <td>...</td>\n      <td>...</td>\n      <td>...</td>\n    </tr>\n    <tr>\n      <th>2615</th>\n      <td>20200301</td>\n      <td>MI</td>\n      <td>9.0</td>\n      <td>9.0</td>\n      <td>NaN</td>\n    </tr>\n    <tr>\n      <th>2616</th>\n      <td>20200301</td>\n      <td>RI</td>\n      <td>1.0</td>\n      <td>1.0</td>\n      <td>NaN</td>\n    </tr>\n    <tr>\n      <th>2617</th>\n      <td>20200301</td>\n      <td>WA</td>\n      <td>30.0</td>\n      <td>30.0</td>\n      <td>8.0</td>\n    </tr>\n    <tr>\n      <th>2618</th>\n      <td>20200229</td>\n      <td>WA</td>\n      <td>18.0</td>\n      <td>18.0</td>\n      <td>5.0</td>\n    </tr>\n    <tr>\n      <th>2619</th>\n      <td>20200228</td>\n      <td>WA</td>\n      <td>9.0</td>\n      <td>9.0</td>\n      <td>4.0</td>\n    </tr>\n  </tbody>\n</table>\n<p>2620 rows × 5 columns</p>\n</div>"
     },
     "metadata": {},
     "execution_count": 13
    }
   ],
   "source": [
    "#Make a new dataframe using only the columns we want to see\n",
    "covid_df = data_df[['date','state','positive','total','death']]\n",
    "covid_df"
   ]
  },
  {
   "cell_type": "code",
   "execution_count": 14,
   "metadata": {},
   "outputs": [
    {
     "output_type": "execute_result",
     "data": {
      "text/plain": "          date state  positive     total   death\n0     20200421    AK     329.0   11119.0     9.0\n1     20200421    AL    5231.0   48526.0   177.0\n2     20200421    AR    2227.0   27441.0    43.0\n4     20200421    AZ    5251.0   55152.0   208.0\n5     20200421    CA   33261.0  300100.0  1268.0\n...        ...   ...       ...       ...     ...\n2615  20200301    MI       9.0       9.0     NaN\n2616  20200301    RI       1.0       1.0     NaN\n2617  20200301    WA      30.0      30.0     8.0\n2618  20200229    WA      18.0      18.0     5.0\n2619  20200228    WA       9.0       9.0     4.0\n\n[2472 rows x 5 columns]",
      "text/html": "<div>\n<style scoped>\n    .dataframe tbody tr th:only-of-type {\n        vertical-align: middle;\n    }\n\n    .dataframe tbody tr th {\n        vertical-align: top;\n    }\n\n    .dataframe thead th {\n        text-align: right;\n    }\n</style>\n<table border=\"1\" class=\"dataframe\">\n  <thead>\n    <tr style=\"text-align: right;\">\n      <th></th>\n      <th>date</th>\n      <th>state</th>\n      <th>positive</th>\n      <th>total</th>\n      <th>death</th>\n    </tr>\n  </thead>\n  <tbody>\n    <tr>\n      <th>0</th>\n      <td>20200421</td>\n      <td>AK</td>\n      <td>329.0</td>\n      <td>11119.0</td>\n      <td>9.0</td>\n    </tr>\n    <tr>\n      <th>1</th>\n      <td>20200421</td>\n      <td>AL</td>\n      <td>5231.0</td>\n      <td>48526.0</td>\n      <td>177.0</td>\n    </tr>\n    <tr>\n      <th>2</th>\n      <td>20200421</td>\n      <td>AR</td>\n      <td>2227.0</td>\n      <td>27441.0</td>\n      <td>43.0</td>\n    </tr>\n    <tr>\n      <th>4</th>\n      <td>20200421</td>\n      <td>AZ</td>\n      <td>5251.0</td>\n      <td>55152.0</td>\n      <td>208.0</td>\n    </tr>\n    <tr>\n      <th>5</th>\n      <td>20200421</td>\n      <td>CA</td>\n      <td>33261.0</td>\n      <td>300100.0</td>\n      <td>1268.0</td>\n    </tr>\n    <tr>\n      <th>...</th>\n      <td>...</td>\n      <td>...</td>\n      <td>...</td>\n      <td>...</td>\n      <td>...</td>\n    </tr>\n    <tr>\n      <th>2615</th>\n      <td>20200301</td>\n      <td>MI</td>\n      <td>9.0</td>\n      <td>9.0</td>\n      <td>NaN</td>\n    </tr>\n    <tr>\n      <th>2616</th>\n      <td>20200301</td>\n      <td>RI</td>\n      <td>1.0</td>\n      <td>1.0</td>\n      <td>NaN</td>\n    </tr>\n    <tr>\n      <th>2617</th>\n      <td>20200301</td>\n      <td>WA</td>\n      <td>30.0</td>\n      <td>30.0</td>\n      <td>8.0</td>\n    </tr>\n    <tr>\n      <th>2618</th>\n      <td>20200229</td>\n      <td>WA</td>\n      <td>18.0</td>\n      <td>18.0</td>\n      <td>5.0</td>\n    </tr>\n    <tr>\n      <th>2619</th>\n      <td>20200228</td>\n      <td>WA</td>\n      <td>9.0</td>\n      <td>9.0</td>\n      <td>4.0</td>\n    </tr>\n  </tbody>\n</table>\n<p>2472 rows × 5 columns</p>\n</div>"
     },
     "metadata": {},
     "execution_count": 14
    }
   ],
   "source": [
    "#Drop the columns for the countries outside of the 50 states and DC\n",
    "covid_df = covid_df[covid_df.state !='AS']\n",
    "covid_df = covid_df[covid_df.state !='GU']\n",
    "covid_df = covid_df[covid_df.state !='MP']\n",
    "covid_df = covid_df[covid_df.state !='PR']\n",
    "\n",
    "covid_df"
   ]
  },
  {
   "cell_type": "code",
   "execution_count": 15,
   "metadata": {},
   "outputs": [],
   "source": [
    "#Save to a new CSV\n",
    "covid_df.to_csv('covid_data.csv', index=False)"
   ]
  },
  {
   "cell_type": "code",
   "execution_count": null,
   "metadata": {},
   "outputs": [],
   "source": [
    "#Merge tables on state abbreviation\n",
    "#Add Percent Tested column based on Total/Population\n",
    "#Add week column "
   ]
  }
 ],
 "metadata": {
  "language_info": {
   "name": "python",
   "codemirror_mode": {
    "name": "ipython",
    "version": 3
   },
   "version": "3.7.4-final"
  },
  "orig_nbformat": 2,
  "file_extension": ".py",
  "mimetype": "text/x-python",
  "name": "python",
  "npconvert_exporter": "python",
  "pygments_lexer": "ipython3",
  "version": 3,
  "kernelspec": {
   "name": "python37464bitpythondatacondaaf71fc3f5dd34866a438487bc0d8ac87",
   "display_name": "Python 3.7.4 64-bit ('PythonData': conda)"
  }
 },
 "nbformat": 4,
 "nbformat_minor": 2
}